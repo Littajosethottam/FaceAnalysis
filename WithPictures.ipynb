{
 "cells": [
  {
   "cell_type": "code",
   "execution_count": 11,
   "metadata": {},
   "outputs": [
    {
     "name": "stdout",
     "output_type": "stream",
     "text": [
      "Processing PDF: 30001-30004 and 30006-30008_NI Kicker 78-2020.pdf (AD ID: 30001-30004 and 30006-30008)\n"
     ]
    },
    {
     "name": "stderr",
     "output_type": "stream",
     "text": [
      "Action: race: 100%|██████████| 3/3 [00:09<00:00,  3.32s/it]  \n",
      "Action: race: 100%|██████████| 3/3 [00:11<00:00,  3.82s/it]  \n",
      "Action: race: 100%|██████████| 3/3 [00:07<00:00,  2.46s/it]  \n",
      "Action: race: 100%|██████████| 3/3 [00:02<00:00,  1.14it/s]  \n",
      "Action: race: 100%|██████████| 3/3 [00:02<00:00,  1.38it/s]  \n",
      "Action: race: 100%|██████████| 3/3 [00:05<00:00,  1.68s/it]  \n",
      "Action: race: 100%|██████████| 3/3 [00:01<00:00,  1.61it/s]  \n",
      "Action: race: 100%|██████████| 3/3 [00:01<00:00,  1.61it/s]  \n",
      "Action: race: 100%|██████████| 3/3 [00:09<00:00,  3.29s/it]  \n",
      "Action: race: 100%|██████████| 3/3 [00:10<00:00,  3.39s/it]  \n",
      "Action: race: 100%|██████████| 3/3 [00:11<00:00,  3.96s/it]  \n",
      "Action: race: 100%|██████████| 3/3 [00:10<00:00,  3.53s/it]  \n",
      "Action: race: 100%|██████████| 3/3 [00:10<00:00,  3.47s/it]  \n"
     ]
    },
    {
     "name": "stdout",
     "output_type": "stream",
     "text": [
      "Processing PDF: 30009-30011_NI_Kicker 89-2020.pdf (AD ID: 30009-30011)\n"
     ]
    },
    {
     "name": "stderr",
     "output_type": "stream",
     "text": [
      "Action: race: 100%|██████████| 3/3 [00:11<00:00,  3.76s/it]  \n",
      "Action: race: 100%|██████████| 3/3 [00:10<00:00,  3.50s/it]  \n",
      "Action: race: 100%|██████████| 3/3 [00:09<00:00,  3.26s/it]  \n",
      "Action: race: 100%|██████████| 3/3 [00:05<00:00,  1.70s/it]  \n",
      "Action: race: 100%|██████████| 3/3 [00:07<00:00,  2.50s/it]  \n",
      "Action: race: 100%|██████████| 3/3 [00:04<00:00,  1.55s/it]  \n",
      "Action: race: 100%|██████████| 3/3 [00:01<00:00,  1.63it/s]  \n"
     ]
    },
    {
     "name": "stdout",
     "output_type": "stream",
     "text": [
      "Processing PDF: 30012_Kicker 94-2020.pdf (AD ID: 30012)\n"
     ]
    },
    {
     "name": "stderr",
     "output_type": "stream",
     "text": [
      "Action: race: 100%|██████████| 3/3 [00:02<00:00,  1.01it/s]  \n",
      "Action: race: 100%|██████████| 3/3 [00:02<00:00,  1.17it/s]  \n",
      "Action: race: 100%|██████████| 3/3 [00:03<00:00,  1.05s/it]  \n",
      "Action: race: 100%|██████████| 3/3 [00:04<00:00,  1.40s/it]  \n",
      "Action: race: 100%|██████████| 3/3 [00:03<00:00,  1.04s/it]  \n",
      "Action: race: 100%|██████████| 3/3 [00:03<00:00,  1.04s/it]  \n",
      "Action: race: 100%|██████████| 3/3 [00:04<00:00,  1.51s/it]  \n"
     ]
    },
    {
     "name": "stdout",
     "output_type": "stream",
     "text": [
      "Processing PDF: 30013-30017_NI Kicker 102-2020.pdf (AD ID: 30013-30017)\n"
     ]
    },
    {
     "name": "stderr",
     "output_type": "stream",
     "text": [
      "Action: race: 100%|██████████| 3/3 [00:11<00:00,  3.98s/it]  \n",
      "Action: race: 100%|██████████| 3/3 [00:09<00:00,  3.03s/it]  \n",
      "Action: race: 100%|██████████| 3/3 [00:10<00:00,  3.52s/it]  \n",
      "Action: race: 100%|██████████| 3/3 [00:10<00:00,  3.57s/it]  \n",
      "Action: race: 100%|██████████| 3/3 [00:16<00:00,  5.47s/it]  \n",
      "Action: race: 100%|██████████| 3/3 [00:09<00:00,  3.16s/it]  \n",
      "Action: race: 100%|██████████| 3/3 [00:03<00:00,  1.27s/it]  \n",
      "Action: race: 100%|██████████| 3/3 [00:02<00:00,  1.06it/s]  \n",
      "Action: race: 100%|██████████| 3/3 [00:02<00:00,  1.29it/s]  \n",
      "Action: race: 100%|██████████| 3/3 [00:04<00:00,  1.34s/it]  \n",
      "Action: race: 100%|██████████| 3/3 [00:10<00:00,  3.62s/it]  \n",
      "Action: race: 100%|██████████| 3/3 [00:12<00:00,  4.13s/it]  \n"
     ]
    },
    {
     "name": "stdout",
     "output_type": "stream",
     "text": [
      "Processing PDF: 31591_sport-bild-2021-07-14 7.pdf (AD ID: 31591)\n"
     ]
    },
    {
     "name": "stderr",
     "output_type": "stream",
     "text": [
      "Action: race: 100%|██████████| 3/3 [00:12<00:00,  4.09s/it]  \n",
      "Action: race: 100%|██████████| 3/3 [00:17<00:00,  5.86s/it]  \n"
     ]
    },
    {
     "name": "stdout",
     "output_type": "stream",
     "text": [
      "Processing PDF: 31913_MENS-HEALTH_2020-06 49.pdf (AD ID: 31913)\n",
      "Processing PDF: 31914_MENS-HEALTH_2020-06 65.pdf (AD ID: 31914)\n"
     ]
    },
    {
     "name": "stderr",
     "output_type": "stream",
     "text": [
      "Action: race: 100%|██████████| 3/3 [00:14<00:00,  4.67s/it]  \n"
     ]
    },
    {
     "name": "stdout",
     "output_type": "stream",
     "text": [
      "Processing PDF: 31920_Seiten aus MENS-HEALTH_2020-08 5.pdf (AD ID: 31920)\n"
     ]
    },
    {
     "name": "stderr",
     "output_type": "stream",
     "text": [
      "Action: race: 100%|██████████| 3/3 [00:10<00:00,  3.44s/it]  \n"
     ]
    },
    {
     "name": "stdout",
     "output_type": "stream",
     "text": [
      "Processing PDF: 31925_Seiten aus MENS-HEALTH_2020-08 15.pdf (AD ID: 31925)\n"
     ]
    },
    {
     "name": "stderr",
     "output_type": "stream",
     "text": [
      "Action: race: 100%|██████████| 3/3 [00:17<00:00,  5.76s/it]  \n",
      "Action: race: 100%|██████████| 3/3 [00:06<00:00,  2.26s/it]  \n",
      "Action: race: 100%|██████████| 3/3 [00:10<00:00,  3.63s/it]  \n"
     ]
    },
    {
     "name": "stdout",
     "output_type": "stream",
     "text": [
      "Results saved to C:\\Final\\csv\\output_faces_with_images.csv\n"
     ]
    }
   ],
   "source": [
    "import os\n",
    "import cv2\n",
    "import numpy as np\n",
    "from PIL import Image as PILImage\n",
    "from deepface import DeepFace\n",
    "from mtcnn import MTCNN\n",
    "import pandas as pd\n",
    "from pdf2image import convert_from_path\n",
    "\n",
    "# Function to extract AD ID from the PDF filename\n",
    "def extract_ad_id_from_filename(filename):\n",
    "    return filename.split('_')[0]\n",
    "\n",
    "def convert_pdf_to_images(pdf_path, output_folder):\n",
    "    images = convert_from_path(pdf_path)\n",
    "    image_paths = []\n",
    "    for i, image in enumerate(images):\n",
    "        image_filename = f\"{os.path.basename(pdf_path).split('.')[0]}_page_{i + 1}.jpg\"\n",
    "        image_path = os.path.join(output_folder, image_filename)\n",
    "        image.save(image_path, \"JPEG\")\n",
    "        image_paths.append(image_path)\n",
    "    return image_paths\n",
    "\n",
    "def validate_and_load_face_from_array(face_array, face_path):\n",
    "    try:\n",
    "        img = PILImage.fromarray(face_array).convert(\"RGB\")\n",
    "        img.save(face_path)\n",
    "        return np.array(img)\n",
    "    except Exception as e:\n",
    "        print(f\"Failed to validate face: {e}\")\n",
    "        return None\n",
    "\n",
    "def adjust_gender(gender_data):\n",
    "    man_percentage = gender_data.get(\"Man\", 0)\n",
    "    woman_percentage = gender_data.get(\"Woman\", 0)\n",
    "    if man_percentage > 50:\n",
    "        return 2  # Man\n",
    "    elif woman_percentage > 50:\n",
    "        return 1  # Woman\n",
    "    elif man_percentage == 50 and woman_percentage == 50:\n",
    "        return 5  # Non-Binary\n",
    "    return \"Unknown\"\n",
    "\n",
    "def detect_and_analyze(image_path, ad_id, page_number, output_folder=\"output_faces\"):\n",
    "    os.makedirs(output_folder, exist_ok=True)\n",
    "    image = cv2.imread(image_path)\n",
    "    detector = MTCNN()\n",
    "    detections = detector.detect_faces(image)\n",
    "    results = {\"Faces\": []}\n",
    "    for i, detection in enumerate(detections):\n",
    "        x, y, w, h = detection['box']\n",
    "        x, y = max(0, x), max(0, y)\n",
    "        face = image[y:y + h, x:x + w]\n",
    "        if w < 10 or h < 15:\n",
    "            continue\n",
    "        \n",
    "        face_resized = cv2.resize(face, (224, 224))\n",
    "        face_path = os.path.join(output_folder, f\"{ad_id}_{page_number}_face_{i}.jpg\")\n",
    "        validated_face = validate_and_load_face_from_array(face_resized, face_path)\n",
    "        if validated_face is None:\n",
    "            continue\n",
    "        \n",
    "        try:\n",
    "            analysis = DeepFace.analyze(validated_face, actions=[\"age\", \"gender\", \"race\"], enforce_detection=False)\n",
    "            results[\"Faces\"].append({\n",
    "                \"Age\": analysis[0].get(\"age\"),\n",
    "                \"Gender\": adjust_gender(analysis[0].get(\"gender\", {})),\n",
    "                \"Race\": analysis[0].get(\"dominant_race\"),\n",
    "                \"Image Path\": face_path\n",
    "            })\n",
    "        except Exception as e:\n",
    "            print(f\"DeepFace error: {e}\")\n",
    "    \n",
    "    return results\n",
    "\n",
    "def process_and_save_images_to_csv(pdf_folder, output_csv=\"output_faces_with_images.csv\"):\n",
    "    os.makedirs(\"output_faces\", exist_ok=True)\n",
    "    data = []\n",
    "    for pdf_file in os.listdir(pdf_folder):\n",
    "        if not pdf_file.lower().endswith('.pdf'):\n",
    "            continue\n",
    "        ad_id = extract_ad_id_from_filename(pdf_file)\n",
    "        print(f\"Processing PDF: {pdf_file} (AD ID: {ad_id})\")\n",
    "        pdf_path = os.path.join(pdf_folder, pdf_file)\n",
    "        image_paths = convert_pdf_to_images(pdf_path, \"output_faces\")\n",
    "        for page_number, image_path in enumerate(image_paths, start=1):\n",
    "            result = detect_and_analyze(image_path, ad_id, page_number, \"output_faces\")\n",
    "            face_count = len(result[\"Faces\"])\n",
    "            for face_result in result[\"Faces\"]:\n",
    "                data.append([\n",
    "                    ad_id,\n",
    "                    face_count,\n",
    "                    face_result[\"Age\"],\n",
    "                    face_result[\"Gender\"],\n",
    "                    face_result[\"Race\"],\n",
    "                    face_result[\"Image Path\"]\n",
    "                ])\n",
    "    df = pd.DataFrame(data, columns=[\"AD ID\", \"Faces on Image\", \"Age\", \"Gender\", \"Race\", \"Image Path\"])\n",
    "    df.to_csv(output_csv, index=False)\n",
    "    print(f\"Results saved to {output_csv}\")\n",
    "\n",
    "if __name__ == \"__main__\":\n",
    "    pdf_folder = \"C:\\\\Final\\\\mens health\"\n",
    "    output_csv = \"C:\\\\Final\\\\csv\\\\output_faces_with_images.csv\"\n",
    "    process_and_save_images_to_csv(pdf_folder, output_csv)\n"
   ]
  }
 ],
 "metadata": {
  "kernelspec": {
   "display_name": "LitzML",
   "language": "python",
   "name": "python3"
  },
  "language_info": {
   "codemirror_mode": {
    "name": "ipython",
    "version": 3
   },
   "file_extension": ".py",
   "mimetype": "text/x-python",
   "name": "python",
   "nbconvert_exporter": "python",
   "pygments_lexer": "ipython3",
   "version": "3.10.13"
  }
 },
 "nbformat": 4,
 "nbformat_minor": 2
}
